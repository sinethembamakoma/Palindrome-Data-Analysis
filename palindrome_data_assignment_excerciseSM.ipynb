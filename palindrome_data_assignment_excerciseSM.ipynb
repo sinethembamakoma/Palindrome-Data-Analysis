{
 "cells": [
  {
   "cell_type": "code",
   "execution_count": 1,
   "metadata": {
    "collapsed": true
   },
   "outputs": [],
   "source": [
    "import pandas as pd\n",
    "import matplotlib.pyplot as plt\n",
    "import seaborn as sns\n",
    "import numpy as np\n",
    "import numpy.random as nr\n",
    "\n",
    "%matplotlib inline"
   ]
  },
  {
   "cell_type": "markdown",
   "metadata": {},
   "source": [
    "# Reading the data as an Excel file"
   ]
  },
  {
   "cell_type": "code",
   "execution_count": 5,
   "metadata": {},
   "outputs": [
    {
     "data": {
      "text/html": [
       "<div>\n",
       "<style>\n",
       "    .dataframe thead tr:only-child th {\n",
       "        text-align: right;\n",
       "    }\n",
       "\n",
       "    .dataframe thead th {\n",
       "        text-align: left;\n",
       "    }\n",
       "\n",
       "    .dataframe tbody tr th {\n",
       "        vertical-align: top;\n",
       "    }\n",
       "</style>\n",
       "<table border=\"1\" class=\"dataframe\">\n",
       "  <thead>\n",
       "    <tr style=\"text-align: right;\">\n",
       "      <th></th>\n",
       "      <th>S4 Table.  Direct survey domain and \"Fay-Heriott\" small area estimates of HIV prevalence and the numbers of people living with HIV (NoPLHIV) in the districts of South Africa obtained from Model 3.  LCL and UCL denotes the lower and upper limits, respectively, of 95% confidence intervals.</th>\n",
       "      <th>Unnamed: 1</th>\n",
       "      <th>Unnamed: 2</th>\n",
       "      <th>Unnamed: 3</th>\n",
       "      <th>Unnamed: 4</th>\n",
       "      <th>Unnamed: 5</th>\n",
       "      <th>Unnamed: 6</th>\n",
       "      <th>Unnamed: 7</th>\n",
       "      <th>Unnamed: 8</th>\n",
       "    </tr>\n",
       "  </thead>\n",
       "  <tbody>\n",
       "    <tr>\n",
       "      <th>0</th>\n",
       "      <td>District</td>\n",
       "      <td>Code</td>\n",
       "      <td>Estimate</td>\n",
       "      <td>Prevalence_%</td>\n",
       "      <td>Prevalence_LCL</td>\n",
       "      <td>Prevalence_UCL</td>\n",
       "      <td>NoPLHIV</td>\n",
       "      <td>NoPLHIV_LCL</td>\n",
       "      <td>NoPLHIV_UCL</td>\n",
       "    </tr>\n",
       "    <tr>\n",
       "      <th>1</th>\n",
       "      <td>Buffalo City</td>\n",
       "      <td>BUF</td>\n",
       "      <td>Survey</td>\n",
       "      <td>13.6</td>\n",
       "      <td>10.268</td>\n",
       "      <td>16.932</td>\n",
       "      <td>102437</td>\n",
       "      <td>77340</td>\n",
       "      <td>127534</td>\n",
       "    </tr>\n",
       "  </tbody>\n",
       "</table>\n",
       "</div>"
      ],
      "text/plain": [
       "  S4 Table.  Direct survey domain and \"Fay-Heriott\" small area estimates of HIV prevalence and the numbers of people living with HIV (NoPLHIV) in the districts of South Africa obtained from Model 3.  LCL and UCL denotes the lower and upper limits, respectively, of 95% confidence intervals.  \\\n",
       "0                                           District                                                                                                                                                                                                                                                 \n",
       "1                                       Buffalo City                                                                                                                                                                                                                                                 \n",
       "\n",
       "  Unnamed: 1 Unnamed: 2    Unnamed: 3      Unnamed: 4      Unnamed: 5  \\\n",
       "0       Code   Estimate  Prevalence_%  Prevalence_LCL  Prevalence_UCL   \n",
       "1        BUF     Survey          13.6          10.268          16.932   \n",
       "\n",
       "  Unnamed: 6   Unnamed: 7   Unnamed: 8  \n",
       "0    NoPLHIV  NoPLHIV_LCL  NoPLHIV_UCL  \n",
       "1     102437        77340       127534  "
      ]
     },
     "execution_count": 5,
     "metadata": {},
     "output_type": "execute_result"
    }
   ],
   "source": [
    "df_without_columns = pd.read_excel('pone.0212445.s004.xlsx')\n",
    "df_without_columns.head(2)"
   ]
  },
  {
   "cell_type": "markdown",
   "metadata": {},
   "source": [
    "# Removing the supporting info and enabling first row as the header since it contains the features/columns"
   ]
  },
  {
   "cell_type": "code",
   "execution_count": 6,
   "metadata": {},
   "outputs": [
    {
     "data": {
      "text/html": [
       "<div>\n",
       "<style>\n",
       "    .dataframe thead tr:only-child th {\n",
       "        text-align: right;\n",
       "    }\n",
       "\n",
       "    .dataframe thead th {\n",
       "        text-align: left;\n",
       "    }\n",
       "\n",
       "    .dataframe tbody tr th {\n",
       "        vertical-align: top;\n",
       "    }\n",
       "</style>\n",
       "<table border=\"1\" class=\"dataframe\">\n",
       "  <thead>\n",
       "    <tr style=\"text-align: right;\">\n",
       "      <th></th>\n",
       "      <th>District</th>\n",
       "      <th>Code</th>\n",
       "      <th>Estimate</th>\n",
       "      <th>Prevalence_%</th>\n",
       "      <th>Prevalence_LCL</th>\n",
       "      <th>Prevalence_UCL</th>\n",
       "      <th>NoPLHIV</th>\n",
       "      <th>NoPLHIV_LCL</th>\n",
       "      <th>NoPLHIV_UCL</th>\n",
       "    </tr>\n",
       "  </thead>\n",
       "  <tbody>\n",
       "    <tr>\n",
       "      <th>0</th>\n",
       "      <td>Buffalo City</td>\n",
       "      <td>BUF</td>\n",
       "      <td>Survey</td>\n",
       "      <td>13.600000</td>\n",
       "      <td>10.268000</td>\n",
       "      <td>16.932000</td>\n",
       "      <td>102437</td>\n",
       "      <td>77340</td>\n",
       "      <td>127534</td>\n",
       "    </tr>\n",
       "    <tr>\n",
       "      <th>1</th>\n",
       "      <td>Buffalo City</td>\n",
       "      <td>BUF</td>\n",
       "      <td>Fay-Heriott</td>\n",
       "      <td>13.501283</td>\n",
       "      <td>11.031605</td>\n",
       "      <td>16.421802</td>\n",
       "      <td>101693</td>\n",
       "      <td>83092</td>\n",
       "      <td>123691</td>\n",
       "    </tr>\n",
       "    <tr>\n",
       "      <th>2</th>\n",
       "      <td>City of Cape Town</td>\n",
       "      <td>CPT</td>\n",
       "      <td>Survey</td>\n",
       "      <td>5.200000</td>\n",
       "      <td>3.044000</td>\n",
       "      <td>7.356000</td>\n",
       "      <td>200751</td>\n",
       "      <td>117517</td>\n",
       "      <td>283985</td>\n",
       "    </tr>\n",
       "    <tr>\n",
       "      <th>3</th>\n",
       "      <td>City of Cape Town</td>\n",
       "      <td>CPT</td>\n",
       "      <td>Fay-Heriott</td>\n",
       "      <td>6.020043</td>\n",
       "      <td>4.335072</td>\n",
       "      <td>8.303091</td>\n",
       "      <td>232409</td>\n",
       "      <td>167359</td>\n",
       "      <td>320548</td>\n",
       "    </tr>\n",
       "    <tr>\n",
       "      <th>4</th>\n",
       "      <td>West Coast</td>\n",
       "      <td>DC1</td>\n",
       "      <td>Survey</td>\n",
       "      <td>2.700000</td>\n",
       "      <td>0.000000</td>\n",
       "      <td>5.444000</td>\n",
       "      <td>11302</td>\n",
       "      <td>0</td>\n",
       "      <td>22789</td>\n",
       "    </tr>\n",
       "  </tbody>\n",
       "</table>\n",
       "</div>"
      ],
      "text/plain": [
       "            District Code     Estimate  Prevalence_%  Prevalence_LCL  \\\n",
       "0       Buffalo City  BUF       Survey     13.600000       10.268000   \n",
       "1       Buffalo City  BUF  Fay-Heriott     13.501283       11.031605   \n",
       "2  City of Cape Town  CPT       Survey      5.200000        3.044000   \n",
       "3  City of Cape Town  CPT  Fay-Heriott      6.020043        4.335072   \n",
       "4         West Coast  DC1       Survey      2.700000        0.000000   \n",
       "\n",
       "   Prevalence_UCL  NoPLHIV  NoPLHIV_LCL  NoPLHIV_UCL  \n",
       "0       16.932000   102437        77340       127534  \n",
       "1       16.421802   101693        83092       123691  \n",
       "2        7.356000   200751       117517       283985  \n",
       "3        8.303091   232409       167359       320548  \n",
       "4        5.444000    11302            0        22789  "
      ]
     },
     "execution_count": 6,
     "metadata": {},
     "output_type": "execute_result"
    }
   ],
   "source": [
    "df = pd.read_excel('pone.0212445.s004.xlsx', header=1)\n",
    "df.head()"
   ]
  },
  {
   "cell_type": "markdown",
   "metadata": {},
   "source": [
    "## Looking at the data to see the number of rows and data types of the columns"
   ]
  },
  {
   "cell_type": "code",
   "execution_count": 7,
   "metadata": {},
   "outputs": [
    {
     "name": "stdout",
     "output_type": "stream",
     "text": [
      "<class 'pandas.core.frame.DataFrame'>\n",
      "RangeIndex: 104 entries, 0 to 103\n",
      "Data columns (total 9 columns):\n",
      "District          104 non-null object\n",
      "Code              104 non-null object\n",
      "Estimate          104 non-null object\n",
      "Prevalence_%      104 non-null float64\n",
      "Prevalence_LCL    104 non-null float64\n",
      "Prevalence_UCL    104 non-null float64\n",
      "NoPLHIV           104 non-null int64\n",
      "NoPLHIV_LCL       104 non-null int64\n",
      "NoPLHIV_UCL       104 non-null int64\n",
      "dtypes: float64(3), int64(3), object(3)\n",
      "memory usage: 7.4+ KB\n"
     ]
    }
   ],
   "source": [
    "df.info()"
   ]
  },
  {
   "cell_type": "markdown",
   "metadata": {},
   "source": [
    "Checking to see if are the any missing values in the data, if there are, they will be indicated by yellow shade, otherwise, purple shade"
   ]
  },
  {
   "cell_type": "code",
   "execution_count": 8,
   "metadata": {},
   "outputs": [
    {
     "data": {
      "text/plain": [
       "<matplotlib.axes._subplots.AxesSubplot at 0x1ddff806550>"
      ]
     },
     "execution_count": 8,
     "metadata": {},
     "output_type": "execute_result"
    },
    {
     "data": {
      "image/png": "[encoded data removed]",
      "text/plain": [
       "<matplotlib.figure.Figure at 0x1ddff806710>"
      ]
     },
     "metadata": {},
     "output_type": "display_data"
    }
   ],
   "source": [
    "sns.heatmap(df.isnull(),yticklabels=False,cbar=False,cmap='viridis')"
   ]
  },
  {
   "cell_type": "markdown",
   "metadata": {},
   "source": [
    "# Answer to Question 2a)"
   ]
  },
  {
   "cell_type": "code",
   "execution_count": 65,
   "metadata": {},
   "outputs": [
    {
     "name": "stdout",
     "output_type": "stream",
     "text": [
      "total number of people living with HIV (NoPLHIV) in the listed districts according to the Survey estimate is:\n",
      "6409903\n"
     ]
    }
   ],
   "source": [
    "print(\"total number of people living with HIV (NoPLHIV) in the listed districts according to the Survey estimate is:\") \n",
    "print(df[df['Estimate'] == \"Survey\"].groupby(['District'])[['NoPLHIV']].sum()['NoPLHIV'].sum())"
   ]
  },
  {
   "cell_type": "markdown",
   "metadata": {},
   "source": [
    "# Answer to Question 2b)"
   ]
  },
  {
   "cell_type": "code",
   "execution_count": 66,
   "metadata": {},
   "outputs": [
    {
     "name": "stdout",
     "output_type": "stream",
     "text": [
      "The average NoPLHIV of the two estimates used for “Xhariep” is:\n",
      "12247.5\n"
     ]
    }
   ],
   "source": [
    "print(\"The average NoPLHIV of the two estimates used for “Xhariep” is:\") \n",
    "print(df[df['District'] == \"Xhariep\"].groupby(['Estimate'])[['NoPLHIV']].sum().reset_index().iloc[:,1].mean())"
   ]
  },
  {
   "cell_type": "markdown",
   "metadata": {},
   "source": [
    "# Answer to Question 2c)"
   ]
  },
  {
   "cell_type": "markdown",
   "metadata": {},
   "source": [
    "Adding a new column named \"No_PLWITHOUTHIV\" for the total number of people not living with HIV per district and row"
   ]
  },
  {
   "cell_type": "code",
   "execution_count": 67,
   "metadata": {},
   "outputs": [
    {
     "data": {
      "text/html": [
       "<div>\n",
       "<style>\n",
       "    .dataframe thead tr:only-child th {\n",
       "        text-align: right;\n",
       "    }\n",
       "\n",
       "    .dataframe thead th {\n",
       "        text-align: left;\n",
       "    }\n",
       "\n",
       "    .dataframe tbody tr th {\n",
       "        vertical-align: top;\n",
       "    }\n",
       "</style>\n",
       "<table border=\"1\" class=\"dataframe\">\n",
       "  <thead>\n",
       "    <tr style=\"text-align: right;\">\n",
       "      <th></th>\n",
       "      <th>District</th>\n",
       "      <th>Code</th>\n",
       "      <th>Estimate</th>\n",
       "      <th>Prevalence_%</th>\n",
       "      <th>Prevalence_LCL</th>\n",
       "      <th>Prevalence_UCL</th>\n",
       "      <th>NoPLHIV</th>\n",
       "      <th>NoPLHIV_LCL</th>\n",
       "      <th>NoPLHIV_UCL</th>\n",
       "      <th>No_PLWITHOUTHIV</th>\n",
       "    </tr>\n",
       "  </thead>\n",
       "  <tbody>\n",
       "    <tr>\n",
       "      <th>0</th>\n",
       "      <td>Buffalo City</td>\n",
       "      <td>BUF</td>\n",
       "      <td>Survey</td>\n",
       "      <td>13.600000</td>\n",
       "      <td>10.268000</td>\n",
       "      <td>16.932000</td>\n",
       "      <td>102437</td>\n",
       "      <td>77340</td>\n",
       "      <td>127534</td>\n",
       "      <td>650776.23529</td>\n",
       "    </tr>\n",
       "    <tr>\n",
       "      <th>1</th>\n",
       "      <td>Buffalo City</td>\n",
       "      <td>BUF</td>\n",
       "      <td>Fay-Heriott</td>\n",
       "      <td>13.501283</td>\n",
       "      <td>11.031605</td>\n",
       "      <td>16.421802</td>\n",
       "      <td>101693</td>\n",
       "      <td>83092</td>\n",
       "      <td>123691</td>\n",
       "      <td>651516.87926</td>\n",
       "    </tr>\n",
       "    <tr>\n",
       "      <th>2</th>\n",
       "      <td>City of Cape Town</td>\n",
       "      <td>CPT</td>\n",
       "      <td>Survey</td>\n",
       "      <td>5.200000</td>\n",
       "      <td>3.044000</td>\n",
       "      <td>7.356000</td>\n",
       "      <td>200751</td>\n",
       "      <td>117517</td>\n",
       "      <td>283985</td>\n",
       "      <td>3659845.15385</td>\n",
       "    </tr>\n",
       "    <tr>\n",
       "      <th>3</th>\n",
       "      <td>City of Cape Town</td>\n",
       "      <td>CPT</td>\n",
       "      <td>Fay-Heriott</td>\n",
       "      <td>6.020043</td>\n",
       "      <td>4.335072</td>\n",
       "      <td>8.303091</td>\n",
       "      <td>232409</td>\n",
       "      <td>167359</td>\n",
       "      <td>320548</td>\n",
       "      <td>3628178.28407</td>\n",
       "    </tr>\n",
       "    <tr>\n",
       "      <th>4</th>\n",
       "      <td>West Coast</td>\n",
       "      <td>DC1</td>\n",
       "      <td>Survey</td>\n",
       "      <td>2.700000</td>\n",
       "      <td>0.000000</td>\n",
       "      <td>5.444000</td>\n",
       "      <td>11302</td>\n",
       "      <td>0</td>\n",
       "      <td>22789</td>\n",
       "      <td>407290.59259</td>\n",
       "    </tr>\n",
       "    <tr>\n",
       "      <th>5</th>\n",
       "      <td>West Coast</td>\n",
       "      <td>DC1</td>\n",
       "      <td>Fay-Heriott</td>\n",
       "      <td>4.088319</td>\n",
       "      <td>2.414351</td>\n",
       "      <td>6.841548</td>\n",
       "      <td>17114</td>\n",
       "      <td>10107</td>\n",
       "      <td>28639</td>\n",
       "      <td>401493.23580</td>\n",
       "    </tr>\n",
       "    <tr>\n",
       "      <th>6</th>\n",
       "      <td>Cacadu</td>\n",
       "      <td>DC10</td>\n",
       "      <td>Survey</td>\n",
       "      <td>7.600000</td>\n",
       "      <td>3.484000</td>\n",
       "      <td>11.716000</td>\n",
       "      <td>34732</td>\n",
       "      <td>15922</td>\n",
       "      <td>53542</td>\n",
       "      <td>422268.00000</td>\n",
       "    </tr>\n",
       "    <tr>\n",
       "      <th>7</th>\n",
       "      <td>Cacadu</td>\n",
       "      <td>DC10</td>\n",
       "      <td>Fay-Heriott</td>\n",
       "      <td>8.912387</td>\n",
       "      <td>6.145010</td>\n",
       "      <td>12.756646</td>\n",
       "      <td>40729</td>\n",
       "      <td>28083</td>\n",
       "      <td>58298</td>\n",
       "      <td>416264.17476</td>\n",
       "    </tr>\n",
       "    <tr>\n",
       "      <th>8</th>\n",
       "      <td>Amatole</td>\n",
       "      <td>DC12</td>\n",
       "      <td>Survey</td>\n",
       "      <td>11.000000</td>\n",
       "      <td>7.276000</td>\n",
       "      <td>14.724000</td>\n",
       "      <td>98884</td>\n",
       "      <td>65407</td>\n",
       "      <td>132361</td>\n",
       "      <td>800061.45455</td>\n",
       "    </tr>\n",
       "    <tr>\n",
       "      <th>9</th>\n",
       "      <td>Amatole</td>\n",
       "      <td>DC12</td>\n",
       "      <td>Fay-Heriott</td>\n",
       "      <td>11.878608</td>\n",
       "      <td>9.090702</td>\n",
       "      <td>15.376883</td>\n",
       "      <td>106783</td>\n",
       "      <td>81721</td>\n",
       "      <td>138230</td>\n",
       "      <td>792169.11222</td>\n",
       "    </tr>\n",
       "  </tbody>\n",
       "</table>\n",
       "</div>"
      ],
      "text/plain": [
       "            District  Code     Estimate  Prevalence_%  Prevalence_LCL  \\\n",
       "0       Buffalo City   BUF       Survey     13.600000       10.268000   \n",
       "1       Buffalo City   BUF  Fay-Heriott     13.501283       11.031605   \n",
       "2  City of Cape Town   CPT       Survey      5.200000        3.044000   \n",
       "3  City of Cape Town   CPT  Fay-Heriott      6.020043        4.335072   \n",
       "4         West Coast   DC1       Survey      2.700000        0.000000   \n",
       "5         West Coast   DC1  Fay-Heriott      4.088319        2.414351   \n",
       "6             Cacadu  DC10       Survey      7.600000        3.484000   \n",
       "7             Cacadu  DC10  Fay-Heriott      8.912387        6.145010   \n",
       "8            Amatole  DC12       Survey     11.000000        7.276000   \n",
       "9            Amatole  DC12  Fay-Heriott     11.878608        9.090702   \n",
       "\n",
       "   Prevalence_UCL  NoPLHIV  NoPLHIV_LCL  NoPLHIV_UCL No_PLWITHOUTHIV  \n",
       "0       16.932000   102437        77340       127534    650776.23529  \n",
       "1       16.421802   101693        83092       123691    651516.87926  \n",
       "2        7.356000   200751       117517       283985   3659845.15385  \n",
       "3        8.303091   232409       167359       320548   3628178.28407  \n",
       "4        5.444000    11302            0        22789    407290.59259  \n",
       "5        6.841548    17114        10107        28639    401493.23580  \n",
       "6       11.716000    34732        15922        53542    422268.00000  \n",
       "7       12.756646    40729        28083        58298    416264.17476  \n",
       "8       14.724000    98884        65407       132361    800061.45455  \n",
       "9       15.376883   106783        81721       138230    792169.11222  "
      ]
     },
     "execution_count": 67,
     "metadata": {},
     "output_type": "execute_result"
    }
   ],
   "source": [
    "df['No_PLWITHOUTHIV'] = (((df['NoPLHIV'] * 100 ) / df['Prevalence_%'] )-df['NoPLHIV'])\n",
    "df['No_PLWITHOUTHIV'] = df['No_PLWITHOUTHIV'].apply(lambda x: '%.5f' % x)\n",
    "df.head(10)"
   ]
  },
  {
   "cell_type": "markdown",
   "metadata": {},
   "source": [
    "# Answer to Question 2d)\n"
   ]
  },
  {
   "cell_type": "code",
   "execution_count": 68,
   "metadata": {},
   "outputs": [
    {
     "name": "stdout",
     "output_type": "stream",
     "text": [
      "total number of people living with HIV (NoPLHIV) in the listed cities containing the district with word 'metro' or 'city' is:\n",
      "2572733\n"
     ]
    }
   ],
   "source": [
    "print(\"total number of people living with HIV (NoPLHIV) in the listed cities containing the district with word 'metro' or 'city' is:\") \n",
    "print(df[(df['District'].str.contains('City')) | (df['District'].str.contains('Metro'))]['NoPLHIV'].sum())"
   ]
  },
  {
   "cell_type": "markdown",
   "metadata": {},
   "source": [
    "# Answer to Question 3: Writing to a CSV file with the new columns\n"
   ]
  },
  {
   "cell_type": "code",
   "execution_count": 63,
   "metadata": {},
   "outputs": [],
   "source": [
    "df.to_csv('palindrome_data.csv')"
   ]
  }
 ],
 "metadata": {
  "kernelspec": {
   "display_name": "Python 3",
   "language": "python",
   "name": "python3"
  },
  "language_info": {
   "codemirror_mode": {
    "name": "ipython",
    "version": 3
   },
   "file_extension": ".py",
   "mimetype": "text/x-python",
   "name": "python",
   "nbconvert_exporter": "python",
   "pygments_lexer": "ipython3",
   "version": "3.6.3"
  }
 },
 "nbformat": 4,
 "nbformat_minor": 2
}
